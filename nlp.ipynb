{
 "cells": [
  {
   "cell_type": "code",
   "execution_count": 196,
   "metadata": {},
   "outputs": [
    {
     "name": "stderr",
     "output_type": "stream",
     "text": [
      "[nltk_data] Downloading package punkt to\n",
      "[nltk_data]     C:\\Users\\marti\\AppData\\Roaming\\nltk_data...\n",
      "[nltk_data]   Package punkt is already up-to-date!\n",
      "[nltk_data] Downloading package stopwords to\n",
      "[nltk_data]     C:\\Users\\marti\\AppData\\Roaming\\nltk_data...\n",
      "[nltk_data]   Package stopwords is already up-to-date!\n",
      "[nltk_data] Downloading package wordnet to\n",
      "[nltk_data]     C:\\Users\\marti\\AppData\\Roaming\\nltk_data...\n",
      "[nltk_data]   Package wordnet is already up-to-date!\n",
      "[nltk_data] Downloading package omw-1.4 to\n",
      "[nltk_data]     C:\\Users\\marti\\AppData\\Roaming\\nltk_data...\n",
      "[nltk_data]   Package omw-1.4 is already up-to-date!\n"
     ]
    },
    {
     "data": {
      "text/plain": [
       "True"
      ]
     },
     "execution_count": 196,
     "metadata": {},
     "output_type": "execute_result"
    }
   ],
   "source": [
    "import pandas as pd\n",
    "import nltk\n",
    "import numpy as np\n",
    "from nltk.stem.wordnet import WordNetLemmatizer\n",
    "from nltk.corpus import stopwords\n",
    "import string\n",
    "# from langdetect import detect\n",
    "nltk.download('punkt')\n",
    "nltk.download('stopwords')\n",
    "nltk.download('wordnet')\n",
    "nltk.download('omw-1.4')"
   ]
  },
  {
   "cell_type": "code",
   "execution_count": 197,
   "metadata": {},
   "outputs": [],
   "source": [
    "df = pd.read_csv(\"data\\df_limpio.csv\")"
   ]
  },
  {
   "cell_type": "code",
   "execution_count": 198,
   "metadata": {},
   "outputs": [
    {
     "data": {
      "text/plain": [
       "6871"
      ]
     },
     "execution_count": 198,
     "metadata": {},
     "output_type": "execute_result"
    }
   ],
   "source": [
    "len(df)"
   ]
  },
  {
   "cell_type": "markdown",
   "metadata": {},
   "source": [
    "Nos quedamos solo con las reviews y la url como identificador"
   ]
  },
  {
   "cell_type": "code",
   "execution_count": 199,
   "metadata": {},
   "outputs": [
    {
     "data": {
      "text/plain": [
       "url            0\n",
       "review_0    1202\n",
       "review_1    1774\n",
       "dtype: int64"
      ]
     },
     "execution_count": 199,
     "metadata": {},
     "output_type": "execute_result"
    }
   ],
   "source": [
    "df[[\"url\", \"review_0\", \"review_1\"]].isnull().sum()"
   ]
  },
  {
   "cell_type": "markdown",
   "metadata": {},
   "source": [
    "Eliminamos las filas que no tengan ninguna review"
   ]
  },
  {
   "cell_type": "code",
   "execution_count": 200,
   "metadata": {},
   "outputs": [],
   "source": [
    "df.dropna(subset=['review_0'], inplace=True)"
   ]
  },
  {
   "cell_type": "code",
   "execution_count": 201,
   "metadata": {},
   "outputs": [
    {
     "data": {
      "text/html": [
       "<div>\n",
       "<style scoped>\n",
       "    .dataframe tbody tr th:only-of-type {\n",
       "        vertical-align: middle;\n",
       "    }\n",
       "\n",
       "    .dataframe tbody tr th {\n",
       "        vertical-align: top;\n",
       "    }\n",
       "\n",
       "    .dataframe thead th {\n",
       "        text-align: right;\n",
       "    }\n",
       "</style>\n",
       "<table border=\"1\" class=\"dataframe\">\n",
       "  <thead>\n",
       "    <tr style=\"text-align: right;\">\n",
       "      <th></th>\n",
       "      <th>url</th>\n",
       "      <th>review_0</th>\n",
       "      <th>review_1</th>\n",
       "    </tr>\n",
       "  </thead>\n",
       "  <tbody>\n",
       "    <tr>\n",
       "      <th>0</th>\n",
       "      <td>/Restaurant_Review-g312741-d26322909-Reviews-C...</td>\n",
       "      <td>Amazing, highly recommend this experience!!!!</td>\n",
       "      <td>Cooking with Johnathon</td>\n",
       "    </tr>\n",
       "    <tr>\n",
       "      <th>1</th>\n",
       "      <td>/Restaurant_Review-g312741-d15325004-Reviews-F...</td>\n",
       "      <td>I took my wife and two grown up children for d...</td>\n",
       "      <td>A great evening.</td>\n",
       "    </tr>\n",
       "    <tr>\n",
       "      <th>2</th>\n",
       "      <td>/Restaurant_Review-g312741-d8696562-Reviews-Ar...</td>\n",
       "      <td>We found the Argentine Experience to be exactl...</td>\n",
       "      <td>The ￹steak￻ was beyond delicious and the...</td>\n",
       "    </tr>\n",
       "    <tr>\n",
       "      <th>3</th>\n",
       "      <td>/Restaurant_Review-g312741-d25279370-Reviews-F...</td>\n",
       "      <td>Experiencia Inmersiva Excelente</td>\n",
       "      <td>Amazing place great service</td>\n",
       "    </tr>\n",
       "    <tr>\n",
       "      <th>4</th>\n",
       "      <td>/Restaurant_Review-g312741-d25198242-Reviews-I...</td>\n",
       "      <td>My husband had the cantelonni stuffed with ￹la...</td>\n",
       "      <td>Great food and ￹nice￻ food place</td>\n",
       "    </tr>\n",
       "  </tbody>\n",
       "</table>\n",
       "</div>"
      ],
      "text/plain": [
       "                                                 url  \\\n",
       "0  /Restaurant_Review-g312741-d26322909-Reviews-C...   \n",
       "1  /Restaurant_Review-g312741-d15325004-Reviews-F...   \n",
       "2  /Restaurant_Review-g312741-d8696562-Reviews-Ar...   \n",
       "3  /Restaurant_Review-g312741-d25279370-Reviews-F...   \n",
       "4  /Restaurant_Review-g312741-d25198242-Reviews-I...   \n",
       "\n",
       "                                            review_0  \\\n",
       "0      Amazing, highly recommend this experience!!!!   \n",
       "1  I took my wife and two grown up children for d...   \n",
       "2  We found the Argentine Experience to be exactl...   \n",
       "3                    Experiencia Inmersiva Excelente   \n",
       "4  My husband had the cantelonni stuffed with ￹la...   \n",
       "\n",
       "                                      review_1  \n",
       "0                       Cooking with Johnathon  \n",
       "1                             A great evening.  \n",
       "2  The ￹steak￻ was beyond delicious and the...  \n",
       "3                  Amazing place great service  \n",
       "4             Great food and ￹nice￻ food place  "
      ]
     },
     "execution_count": 201,
     "metadata": {},
     "output_type": "execute_result"
    }
   ],
   "source": [
    "df[[\"url\", \"review_0\", \"review_1\"]].head()"
   ]
  },
  {
   "cell_type": "markdown",
   "metadata": {},
   "source": [
    "Por hacer: detección de lenguaje"
   ]
  },
  {
   "cell_type": "code",
   "execution_count": 202,
   "metadata": {},
   "outputs": [],
   "source": [
    "def detect_language(text):\n",
    "    try:\n",
    "        language = detect(text)\n",
    "        return language\n",
    "    except Exception as e:\n",
    "        print(f\"Error al detectar el idioma: {e}\")\n",
    "        return \"No detectado\""
   ]
  },
  {
   "cell_type": "code",
   "execution_count": 203,
   "metadata": {},
   "outputs": [],
   "source": [
    "# df[\"review_0\"] = df[\"review_0\"].astype(str)\n",
    "# df[\"review_1\"] = df[\"review_1\"].astype(str)"
   ]
  },
  {
   "cell_type": "code",
   "execution_count": 204,
   "metadata": {},
   "outputs": [],
   "source": [
    "# df['language_0'] = df['review_0'].apply(detect_language)\n",
    "# df['language_1'] = df['review_1'].apply(detect_language)"
   ]
  },
  {
   "cell_type": "markdown",
   "metadata": {},
   "source": [
    "Tokenización"
   ]
  },
  {
   "cell_type": "code",
   "execution_count": 205,
   "metadata": {},
   "outputs": [],
   "source": [
    "df[\"review_0_token\"] = df[\"review_0\"].apply(lambda x: nltk.word_tokenize(str(x)))\n",
    "df[\"review_1_token\"] = df[\"review_1\"].apply(lambda x: nltk.word_tokenize(str(x)))"
   ]
  },
  {
   "cell_type": "code",
   "execution_count": 206,
   "metadata": {},
   "outputs": [
    {
     "data": {
      "text/html": [
       "<div>\n",
       "<style scoped>\n",
       "    .dataframe tbody tr th:only-of-type {\n",
       "        vertical-align: middle;\n",
       "    }\n",
       "\n",
       "    .dataframe tbody tr th {\n",
       "        vertical-align: top;\n",
       "    }\n",
       "\n",
       "    .dataframe thead th {\n",
       "        text-align: right;\n",
       "    }\n",
       "</style>\n",
       "<table border=\"1\" class=\"dataframe\">\n",
       "  <thead>\n",
       "    <tr style=\"text-align: right;\">\n",
       "      <th></th>\n",
       "      <th>review_0</th>\n",
       "      <th>review_1</th>\n",
       "      <th>review_0_token</th>\n",
       "      <th>review_1_token</th>\n",
       "    </tr>\n",
       "  </thead>\n",
       "  <tbody>\n",
       "    <tr>\n",
       "      <th>0</th>\n",
       "      <td>Amazing, highly recommend this experience!!!!</td>\n",
       "      <td>Cooking with Johnathon</td>\n",
       "      <td>[Amazing, ,, highly, recommend, this, experien...</td>\n",
       "      <td>[Cooking, with, Johnathon]</td>\n",
       "    </tr>\n",
       "    <tr>\n",
       "      <th>1</th>\n",
       "      <td>I took my wife and two grown up children for d...</td>\n",
       "      <td>A great evening.</td>\n",
       "      <td>[I, took, my, wife, and, two, grown, up, child...</td>\n",
       "      <td>[A, great, evening, .]</td>\n",
       "    </tr>\n",
       "    <tr>\n",
       "      <th>2</th>\n",
       "      <td>We found the Argentine Experience to be exactl...</td>\n",
       "      <td>The ￹steak￻ was beyond delicious and the...</td>\n",
       "      <td>[We, found, the, Argentine, Experience, to, be...</td>\n",
       "      <td>[The, ￹steak￻, was, beyond, delicious, and, th...</td>\n",
       "    </tr>\n",
       "    <tr>\n",
       "      <th>3</th>\n",
       "      <td>Experiencia Inmersiva Excelente</td>\n",
       "      <td>Amazing place great service</td>\n",
       "      <td>[Experiencia, Inmersiva, Excelente]</td>\n",
       "      <td>[Amazing, place, great, service]</td>\n",
       "    </tr>\n",
       "    <tr>\n",
       "      <th>4</th>\n",
       "      <td>My husband had the cantelonni stuffed with ￹la...</td>\n",
       "      <td>Great food and ￹nice￻ food place</td>\n",
       "      <td>[My, husband, had, the, cantelonni, stuffed, w...</td>\n",
       "      <td>[Great, food, and, ￹nice￻, food, place]</td>\n",
       "    </tr>\n",
       "  </tbody>\n",
       "</table>\n",
       "</div>"
      ],
      "text/plain": [
       "                                            review_0  \\\n",
       "0      Amazing, highly recommend this experience!!!!   \n",
       "1  I took my wife and two grown up children for d...   \n",
       "2  We found the Argentine Experience to be exactl...   \n",
       "3                    Experiencia Inmersiva Excelente   \n",
       "4  My husband had the cantelonni stuffed with ￹la...   \n",
       "\n",
       "                                      review_1  \\\n",
       "0                       Cooking with Johnathon   \n",
       "1                             A great evening.   \n",
       "2  The ￹steak￻ was beyond delicious and the...   \n",
       "3                  Amazing place great service   \n",
       "4             Great food and ￹nice￻ food place   \n",
       "\n",
       "                                      review_0_token  \\\n",
       "0  [Amazing, ,, highly, recommend, this, experien...   \n",
       "1  [I, took, my, wife, and, two, grown, up, child...   \n",
       "2  [We, found, the, Argentine, Experience, to, be...   \n",
       "3                [Experiencia, Inmersiva, Excelente]   \n",
       "4  [My, husband, had, the, cantelonni, stuffed, w...   \n",
       "\n",
       "                                      review_1_token  \n",
       "0                         [Cooking, with, Johnathon]  \n",
       "1                             [A, great, evening, .]  \n",
       "2  [The, ￹steak￻, was, beyond, delicious, and, th...  \n",
       "3                   [Amazing, place, great, service]  \n",
       "4            [Great, food, and, ￹nice￻, food, place]  "
      ]
     },
     "execution_count": 206,
     "metadata": {},
     "output_type": "execute_result"
    }
   ],
   "source": [
    "df[[ \"review_0\", \"review_1\", \"review_0_token\", \"review_1_token\"]].head()"
   ]
  },
  {
   "cell_type": "markdown",
   "metadata": {},
   "source": [
    "Eliminación de mayúsculas"
   ]
  },
  {
   "cell_type": "code",
   "execution_count": 207,
   "metadata": {},
   "outputs": [],
   "source": [
    "df[\"review_0_token\"] = df[\"review_0_token\"].apply(lambda x: [el.lower() for el in x])\n",
    "df[\"review_1_token\"] = df[\"review_1_token\"].apply(lambda x: [el.lower() for el in x])"
   ]
  },
  {
   "cell_type": "code",
   "execution_count": 208,
   "metadata": {},
   "outputs": [
    {
     "data": {
      "text/html": [
       "<div>\n",
       "<style scoped>\n",
       "    .dataframe tbody tr th:only-of-type {\n",
       "        vertical-align: middle;\n",
       "    }\n",
       "\n",
       "    .dataframe tbody tr th {\n",
       "        vertical-align: top;\n",
       "    }\n",
       "\n",
       "    .dataframe thead th {\n",
       "        text-align: right;\n",
       "    }\n",
       "</style>\n",
       "<table border=\"1\" class=\"dataframe\">\n",
       "  <thead>\n",
       "    <tr style=\"text-align: right;\">\n",
       "      <th></th>\n",
       "      <th>review_0</th>\n",
       "      <th>review_1</th>\n",
       "      <th>review_0_token</th>\n",
       "      <th>review_1_token</th>\n",
       "    </tr>\n",
       "  </thead>\n",
       "  <tbody>\n",
       "    <tr>\n",
       "      <th>0</th>\n",
       "      <td>Amazing, highly recommend this experience!!!!</td>\n",
       "      <td>Cooking with Johnathon</td>\n",
       "      <td>[amazing, ,, highly, recommend, this, experien...</td>\n",
       "      <td>[cooking, with, johnathon]</td>\n",
       "    </tr>\n",
       "    <tr>\n",
       "      <th>1</th>\n",
       "      <td>I took my wife and two grown up children for d...</td>\n",
       "      <td>A great evening.</td>\n",
       "      <td>[i, took, my, wife, and, two, grown, up, child...</td>\n",
       "      <td>[a, great, evening, .]</td>\n",
       "    </tr>\n",
       "    <tr>\n",
       "      <th>2</th>\n",
       "      <td>We found the Argentine Experience to be exactl...</td>\n",
       "      <td>The ￹steak￻ was beyond delicious and the...</td>\n",
       "      <td>[we, found, the, argentine, experience, to, be...</td>\n",
       "      <td>[the, ￹steak￻, was, beyond, delicious, and, th...</td>\n",
       "    </tr>\n",
       "    <tr>\n",
       "      <th>3</th>\n",
       "      <td>Experiencia Inmersiva Excelente</td>\n",
       "      <td>Amazing place great service</td>\n",
       "      <td>[experiencia, inmersiva, excelente]</td>\n",
       "      <td>[amazing, place, great, service]</td>\n",
       "    </tr>\n",
       "    <tr>\n",
       "      <th>4</th>\n",
       "      <td>My husband had the cantelonni stuffed with ￹la...</td>\n",
       "      <td>Great food and ￹nice￻ food place</td>\n",
       "      <td>[my, husband, had, the, cantelonni, stuffed, w...</td>\n",
       "      <td>[great, food, and, ￹nice￻, food, place]</td>\n",
       "    </tr>\n",
       "  </tbody>\n",
       "</table>\n",
       "</div>"
      ],
      "text/plain": [
       "                                            review_0  \\\n",
       "0      Amazing, highly recommend this experience!!!!   \n",
       "1  I took my wife and two grown up children for d...   \n",
       "2  We found the Argentine Experience to be exactl...   \n",
       "3                    Experiencia Inmersiva Excelente   \n",
       "4  My husband had the cantelonni stuffed with ￹la...   \n",
       "\n",
       "                                      review_1  \\\n",
       "0                       Cooking with Johnathon   \n",
       "1                             A great evening.   \n",
       "2  The ￹steak￻ was beyond delicious and the...   \n",
       "3                  Amazing place great service   \n",
       "4             Great food and ￹nice￻ food place   \n",
       "\n",
       "                                      review_0_token  \\\n",
       "0  [amazing, ,, highly, recommend, this, experien...   \n",
       "1  [i, took, my, wife, and, two, grown, up, child...   \n",
       "2  [we, found, the, argentine, experience, to, be...   \n",
       "3                [experiencia, inmersiva, excelente]   \n",
       "4  [my, husband, had, the, cantelonni, stuffed, w...   \n",
       "\n",
       "                                      review_1_token  \n",
       "0                         [cooking, with, johnathon]  \n",
       "1                             [a, great, evening, .]  \n",
       "2  [the, ￹steak￻, was, beyond, delicious, and, th...  \n",
       "3                   [amazing, place, great, service]  \n",
       "4            [great, food, and, ￹nice￻, food, place]  "
      ]
     },
     "execution_count": 208,
     "metadata": {},
     "output_type": "execute_result"
    }
   ],
   "source": [
    "df[[ \"review_0\", \"review_1\", \"review_0_token\", \"review_1_token\"]].head()"
   ]
  },
  {
   "cell_type": "markdown",
   "metadata": {},
   "source": [
    "Eliminación de stop words y signos de puntuación"
   ]
  },
  {
   "cell_type": "code",
   "execution_count": 209,
   "metadata": {},
   "outputs": [],
   "source": [
    "stopwords_en = stopwords.words('english')\n",
    "punctuation = string.punctuation"
   ]
  },
  {
   "cell_type": "code",
   "execution_count": 210,
   "metadata": {},
   "outputs": [],
   "source": [
    "df[\"review_0_token\"] = df[\"review_0_token\"].apply(lambda x: [el for el in x if el not in stopwords_en])\n",
    "df[\"review_1_token\"] = df[\"review_1_token\"].apply(lambda x: [el for el in x if el not in stopwords_en])"
   ]
  },
  {
   "cell_type": "code",
   "execution_count": 211,
   "metadata": {},
   "outputs": [],
   "source": [
    "df[\"review_0_token\"] = df[\"review_0_token\"].apply(lambda x: [el for el in x if el not in punctuation])\n",
    "df[\"review_1_token\"] = df[\"review_1_token\"].apply(lambda x: [el for el in x if el not in punctuation])"
   ]
  },
  {
   "cell_type": "code",
   "execution_count": 212,
   "metadata": {},
   "outputs": [
    {
     "data": {
      "text/html": [
       "<div>\n",
       "<style scoped>\n",
       "    .dataframe tbody tr th:only-of-type {\n",
       "        vertical-align: middle;\n",
       "    }\n",
       "\n",
       "    .dataframe tbody tr th {\n",
       "        vertical-align: top;\n",
       "    }\n",
       "\n",
       "    .dataframe thead th {\n",
       "        text-align: right;\n",
       "    }\n",
       "</style>\n",
       "<table border=\"1\" class=\"dataframe\">\n",
       "  <thead>\n",
       "    <tr style=\"text-align: right;\">\n",
       "      <th></th>\n",
       "      <th>review_0</th>\n",
       "      <th>review_1</th>\n",
       "      <th>review_0_token</th>\n",
       "      <th>review_1_token</th>\n",
       "    </tr>\n",
       "  </thead>\n",
       "  <tbody>\n",
       "    <tr>\n",
       "      <th>0</th>\n",
       "      <td>Amazing, highly recommend this experience!!!!</td>\n",
       "      <td>Cooking with Johnathon</td>\n",
       "      <td>[amazing, highly, recommend, experience]</td>\n",
       "      <td>[cooking, johnathon]</td>\n",
       "    </tr>\n",
       "    <tr>\n",
       "      <th>1</th>\n",
       "      <td>I took my wife and two grown up children for d...</td>\n",
       "      <td>A great evening.</td>\n",
       "      <td>[took, wife, two, grown, children, dinner, fog...</td>\n",
       "      <td>[great, evening]</td>\n",
       "    </tr>\n",
       "    <tr>\n",
       "      <th>2</th>\n",
       "      <td>We found the Argentine Experience to be exactl...</td>\n",
       "      <td>The ￹steak￻ was beyond delicious and the...</td>\n",
       "      <td>[found, argentine, experience, exactly, argent...</td>\n",
       "      <td>[￹steak￻, beyond, delicious, ...]</td>\n",
       "    </tr>\n",
       "    <tr>\n",
       "      <th>3</th>\n",
       "      <td>Experiencia Inmersiva Excelente</td>\n",
       "      <td>Amazing place great service</td>\n",
       "      <td>[experiencia, inmersiva, excelente]</td>\n",
       "      <td>[amazing, place, great, service]</td>\n",
       "    </tr>\n",
       "    <tr>\n",
       "      <th>4</th>\n",
       "      <td>My husband had the cantelonni stuffed with ￹la...</td>\n",
       "      <td>Great food and ￹nice￻ food place</td>\n",
       "      <td>[husband, cantelonni, stuffed, ￹lamb￻]</td>\n",
       "      <td>[great, food, ￹nice￻, food, place]</td>\n",
       "    </tr>\n",
       "  </tbody>\n",
       "</table>\n",
       "</div>"
      ],
      "text/plain": [
       "                                            review_0  \\\n",
       "0      Amazing, highly recommend this experience!!!!   \n",
       "1  I took my wife and two grown up children for d...   \n",
       "2  We found the Argentine Experience to be exactl...   \n",
       "3                    Experiencia Inmersiva Excelente   \n",
       "4  My husband had the cantelonni stuffed with ￹la...   \n",
       "\n",
       "                                      review_1  \\\n",
       "0                       Cooking with Johnathon   \n",
       "1                             A great evening.   \n",
       "2  The ￹steak￻ was beyond delicious and the...   \n",
       "3                  Amazing place great service   \n",
       "4             Great food and ￹nice￻ food place   \n",
       "\n",
       "                                      review_0_token  \\\n",
       "0           [amazing, highly, recommend, experience]   \n",
       "1  [took, wife, two, grown, children, dinner, fog...   \n",
       "2  [found, argentine, experience, exactly, argent...   \n",
       "3                [experiencia, inmersiva, excelente]   \n",
       "4             [husband, cantelonni, stuffed, ￹lamb￻]   \n",
       "\n",
       "                       review_1_token  \n",
       "0                [cooking, johnathon]  \n",
       "1                    [great, evening]  \n",
       "2   [￹steak￻, beyond, delicious, ...]  \n",
       "3    [amazing, place, great, service]  \n",
       "4  [great, food, ￹nice￻, food, place]  "
      ]
     },
     "execution_count": 212,
     "metadata": {},
     "output_type": "execute_result"
    }
   ],
   "source": [
    "df[[ \"review_0\", \"review_1\", \"review_0_token\", \"review_1_token\"]].head()"
   ]
  },
  {
   "cell_type": "markdown",
   "metadata": {},
   "source": [
    "Lematización"
   ]
  },
  {
   "cell_type": "code",
   "execution_count": 213,
   "metadata": {},
   "outputs": [],
   "source": [
    "lemmatizer = WordNetLemmatizer()"
   ]
  },
  {
   "cell_type": "code",
   "execution_count": 214,
   "metadata": {},
   "outputs": [],
   "source": [
    "df[\"review_0_token\"] = df[\"review_0_token\"].apply(lambda x: [lemmatizer.lemmatize(el) for el in x])\n",
    "df[\"review_1_token\"] = df[\"review_1_token\"].apply(lambda x: [lemmatizer.lemmatize(el) for el in x])"
   ]
  },
  {
   "cell_type": "code",
   "execution_count": 215,
   "metadata": {},
   "outputs": [
    {
     "data": {
      "text/html": [
       "<div>\n",
       "<style scoped>\n",
       "    .dataframe tbody tr th:only-of-type {\n",
       "        vertical-align: middle;\n",
       "    }\n",
       "\n",
       "    .dataframe tbody tr th {\n",
       "        vertical-align: top;\n",
       "    }\n",
       "\n",
       "    .dataframe thead th {\n",
       "        text-align: right;\n",
       "    }\n",
       "</style>\n",
       "<table border=\"1\" class=\"dataframe\">\n",
       "  <thead>\n",
       "    <tr style=\"text-align: right;\">\n",
       "      <th></th>\n",
       "      <th>review_0</th>\n",
       "      <th>review_1</th>\n",
       "      <th>review_0_token</th>\n",
       "      <th>review_1_token</th>\n",
       "    </tr>\n",
       "  </thead>\n",
       "  <tbody>\n",
       "    <tr>\n",
       "      <th>0</th>\n",
       "      <td>Amazing, highly recommend this experience!!!!</td>\n",
       "      <td>Cooking with Johnathon</td>\n",
       "      <td>[amazing, highly, recommend, experience]</td>\n",
       "      <td>[cooking, johnathon]</td>\n",
       "    </tr>\n",
       "    <tr>\n",
       "      <th>1</th>\n",
       "      <td>I took my wife and two grown up children for d...</td>\n",
       "      <td>A great evening.</td>\n",
       "      <td>[took, wife, two, grown, child, dinner, fogon,...</td>\n",
       "      <td>[great, evening]</td>\n",
       "    </tr>\n",
       "    <tr>\n",
       "      <th>2</th>\n",
       "      <td>We found the Argentine Experience to be exactl...</td>\n",
       "      <td>The ￹steak￻ was beyond delicious and the...</td>\n",
       "      <td>[found, argentine, experience, exactly, argent...</td>\n",
       "      <td>[￹steak￻, beyond, delicious, ...]</td>\n",
       "    </tr>\n",
       "    <tr>\n",
       "      <th>3</th>\n",
       "      <td>Experiencia Inmersiva Excelente</td>\n",
       "      <td>Amazing place great service</td>\n",
       "      <td>[experiencia, inmersiva, excelente]</td>\n",
       "      <td>[amazing, place, great, service]</td>\n",
       "    </tr>\n",
       "    <tr>\n",
       "      <th>4</th>\n",
       "      <td>My husband had the cantelonni stuffed with ￹la...</td>\n",
       "      <td>Great food and ￹nice￻ food place</td>\n",
       "      <td>[husband, cantelonni, stuffed, ￹lamb￻]</td>\n",
       "      <td>[great, food, ￹nice￻, food, place]</td>\n",
       "    </tr>\n",
       "  </tbody>\n",
       "</table>\n",
       "</div>"
      ],
      "text/plain": [
       "                                            review_0  \\\n",
       "0      Amazing, highly recommend this experience!!!!   \n",
       "1  I took my wife and two grown up children for d...   \n",
       "2  We found the Argentine Experience to be exactl...   \n",
       "3                    Experiencia Inmersiva Excelente   \n",
       "4  My husband had the cantelonni stuffed with ￹la...   \n",
       "\n",
       "                                      review_1  \\\n",
       "0                       Cooking with Johnathon   \n",
       "1                             A great evening.   \n",
       "2  The ￹steak￻ was beyond delicious and the...   \n",
       "3                  Amazing place great service   \n",
       "4             Great food and ￹nice￻ food place   \n",
       "\n",
       "                                      review_0_token  \\\n",
       "0           [amazing, highly, recommend, experience]   \n",
       "1  [took, wife, two, grown, child, dinner, fogon,...   \n",
       "2  [found, argentine, experience, exactly, argent...   \n",
       "3                [experiencia, inmersiva, excelente]   \n",
       "4             [husband, cantelonni, stuffed, ￹lamb￻]   \n",
       "\n",
       "                       review_1_token  \n",
       "0                [cooking, johnathon]  \n",
       "1                    [great, evening]  \n",
       "2   [￹steak￻, beyond, delicious, ...]  \n",
       "3    [amazing, place, great, service]  \n",
       "4  [great, food, ￹nice￻, food, place]  "
      ]
     },
     "execution_count": 215,
     "metadata": {},
     "output_type": "execute_result"
    }
   ],
   "source": [
    "df[[ \"review_0\", \"review_1\", \"review_0_token\", \"review_1_token\"]].head()"
   ]
  },
  {
   "cell_type": "markdown",
   "metadata": {},
   "source": [
    "Vamos a ver cuales son las palabras que más se repiten"
   ]
  },
  {
   "cell_type": "code",
   "execution_count": 216,
   "metadata": {},
   "outputs": [],
   "source": [
    "reviews_0 = [item for sublist in df['review_0_token'].tolist() for item in sublist]\n",
    "reviews_1 = [item for sublist in df['review_1_token'].tolist() for item in sublist]"
   ]
  },
  {
   "cell_type": "code",
   "execution_count": 217,
   "metadata": {},
   "outputs": [
    {
     "data": {
      "text/plain": [
       "FreqDist({'...': 2281, 'good': 1053, 'great': 768, 'food': 765, 'de': 709, 'place': 670, 'nan': 572, 'muy': 547, 'service': 442, 'la': 428, ...})"
      ]
     },
     "execution_count": 217,
     "metadata": {},
     "output_type": "execute_result"
    }
   ],
   "source": [
    "counts  = nltk.FreqDist(reviews_0+reviews_1)\n",
    "counts"
   ]
  },
  {
   "cell_type": "code",
   "execution_count": 218,
   "metadata": {},
   "outputs": [
    {
     "name": "stdout",
     "output_type": "stream",
     "text": [
      "Palabras únicas:\n"
     ]
    },
    {
     "data": {
      "text/plain": [
       "7145"
      ]
     },
     "execution_count": 218,
     "metadata": {},
     "output_type": "execute_result"
    }
   ],
   "source": [
    "print(\"Palabras únicas:\")\n",
    "len(counts)"
   ]
  },
  {
   "cell_type": "code",
   "execution_count": 219,
   "metadata": {},
   "outputs": [],
   "source": [
    "reviews = df['review_0_token'].apply(lambda x: ' '.join(x)) + df['review_1_token'].apply(lambda x: ' '.join(x))"
   ]
  },
  {
   "cell_type": "code",
   "execution_count": 220,
   "metadata": {},
   "outputs": [
    {
     "data": {
      "text/plain": [
       "0       amazing highly recommend experiencecooking joh...\n",
       "1       took wife two grown child dinner fogon asado l...\n",
       "2       found argentine experience exactly argentine e...\n",
       "3       experiencia inmersiva excelenteamazing place g...\n",
       "4       husband cantelonni stuffed ￹lamb￻great food ￹n...\n",
       "                              ...                        \n",
       "6151                                   pésima atenciónnan\n",
       "6320    lovely place quiet cozy french toast ordered d...\n",
       "6334                        são sucursal villa urquizanan\n",
       "6592                         neat lord ring themed barnan\n",
       "6837                                          flawlessnan\n",
       "Length: 5669, dtype: object"
      ]
     },
     "execution_count": 220,
     "metadata": {},
     "output_type": "execute_result"
    }
   ],
   "source": [
    "reviews"
   ]
  },
  {
   "cell_type": "code",
   "execution_count": 221,
   "metadata": {},
   "outputs": [],
   "source": [
    "from sklearn.feature_extraction.text import TfidfVectorizer, CountVectorizer\n",
    "from sklearn.metrics.pairwise import linear_kernel\n",
    "from pprint import pprint"
   ]
  },
  {
   "cell_type": "markdown",
   "metadata": {},
   "source": [
    "Matriz de conteo:\n"
   ]
  },
  {
   "cell_type": "code",
   "execution_count": 222,
   "metadata": {},
   "outputs": [],
   "source": [
    "vectorizer = CountVectorizer()\n",
    "\n",
    "X = vectorizer.fit_transform(reviews)"
   ]
  },
  {
   "cell_type": "code",
   "execution_count": 223,
   "metadata": {},
   "outputs": [
    {
     "name": "stdout",
     "output_type": "stream",
     "text": [
      "Matriz de Conteo:\n",
      "[[0 0 0 ... 0 0 0]\n",
      " [0 0 0 ... 0 0 0]\n",
      " [0 0 0 ... 0 0 0]\n",
      " ...\n",
      " [0 0 0 ... 0 0 0]\n",
      " [0 0 0 ... 0 0 0]\n",
      " [0 0 0 ... 0 0 0]]\n",
      "Características:\n",
      "['00' '03' '10' ... '𝒇𝒂𝒎𝒊𝒍𝒊𝒂' '𝒊𝒓' '𝒑𝒂𝒓𝒆𝒋𝒂']\n"
     ]
    }
   ],
   "source": [
    "print(\"Matriz de Conteo:\")\n",
    "print(X.toarray())\n",
    "print(\"Características:\")\n",
    "print(vectorizer.get_feature_names_out())"
   ]
  },
  {
   "cell_type": "markdown",
   "metadata": {},
   "source": [
    "Ahora vamos a usar TF-IDF:"
   ]
  },
  {
   "cell_type": "code",
   "execution_count": 224,
   "metadata": {},
   "outputs": [],
   "source": [
    "tf = TfidfVectorizer()\n",
    "tfidf_matrix = tf.fit_transform(reviews)"
   ]
  },
  {
   "cell_type": "code",
   "execution_count": 225,
   "metadata": {},
   "outputs": [
    {
     "data": {
      "text/plain": [
       "<5669x9253 sparse matrix of type '<class 'numpy.float64'>'\n",
       "\twith 40511 stored elements in Compressed Sparse Row format>"
      ]
     },
     "execution_count": 225,
     "metadata": {},
     "output_type": "execute_result"
    }
   ],
   "source": [
    "tfidf_matrix"
   ]
  },
  {
   "cell_type": "code",
   "execution_count": 226,
   "metadata": {},
   "outputs": [
    {
     "name": "stdout",
     "output_type": "stream",
     "text": [
      "Matriz TF-IDF:\n",
      "       00   03   10  100  1000normal  1001  100la  100m  100nan  100rico  ...  \\\n",
      "0     0.0  0.0  0.0  0.0         0.0   0.0    0.0   0.0     0.0      0.0  ...   \n",
      "1     0.0  0.0  0.0  0.0         0.0   0.0    0.0   0.0     0.0      0.0  ...   \n",
      "2     0.0  0.0  0.0  0.0         0.0   0.0    0.0   0.0     0.0      0.0  ...   \n",
      "3     0.0  0.0  0.0  0.0         0.0   0.0    0.0   0.0     0.0      0.0  ...   \n",
      "4     0.0  0.0  0.0  0.0         0.0   0.0    0.0   0.0     0.0      0.0  ...   \n",
      "...   ...  ...  ...  ...         ...   ...    ...   ...     ...      ...  ...   \n",
      "5664  0.0  0.0  0.0  0.0         0.0   0.0    0.0   0.0     0.0      0.0  ...   \n",
      "5665  0.0  0.0  0.0  0.0         0.0   0.0    0.0   0.0     0.0      0.0  ...   \n",
      "5666  0.0  0.0  0.0  0.0         0.0   0.0    0.0   0.0     0.0      0.0  ...   \n",
      "5667  0.0  0.0  0.0  0.0         0.0   0.0    0.0   0.0     0.0      0.0  ...   \n",
      "5668  0.0  0.0  0.0  0.0         0.0   0.0    0.0   0.0     0.0      0.0  ...   \n",
      "\n",
      "      오빠닭  최고예요  현미베이크  𝑷𝒂𝒓𝒂  𝒂𝒎𝒊𝒈𝒐𝒔  𝒄𝒐𝒏   𝒆𝒏  𝒇𝒂𝒎𝒊𝒍𝒊𝒂   𝒊𝒓  𝒑𝒂𝒓𝒆𝒋𝒂  \n",
      "0     0.0   0.0    0.0   0.0     0.0  0.0  0.0      0.0  0.0     0.0  \n",
      "1     0.0   0.0    0.0   0.0     0.0  0.0  0.0      0.0  0.0     0.0  \n",
      "2     0.0   0.0    0.0   0.0     0.0  0.0  0.0      0.0  0.0     0.0  \n",
      "3     0.0   0.0    0.0   0.0     0.0  0.0  0.0      0.0  0.0     0.0  \n",
      "4     0.0   0.0    0.0   0.0     0.0  0.0  0.0      0.0  0.0     0.0  \n",
      "...   ...   ...    ...   ...     ...  ...  ...      ...  ...     ...  \n",
      "5664  0.0   0.0    0.0   0.0     0.0  0.0  0.0      0.0  0.0     0.0  \n",
      "5665  0.0   0.0    0.0   0.0     0.0  0.0  0.0      0.0  0.0     0.0  \n",
      "5666  0.0   0.0    0.0   0.0     0.0  0.0  0.0      0.0  0.0     0.0  \n",
      "5667  0.0   0.0    0.0   0.0     0.0  0.0  0.0      0.0  0.0     0.0  \n",
      "5668  0.0   0.0    0.0   0.0     0.0  0.0  0.0      0.0  0.0     0.0  \n",
      "\n",
      "[5669 rows x 9253 columns]\n"
     ]
    }
   ],
   "source": [
    "df_tfidf = pd.DataFrame(tfidf_matrix.toarray(), columns=tf.get_feature_names_out())\n",
    "print(\"Matriz TF-IDF:\")\n",
    "print(df_tfidf)"
   ]
  },
  {
   "cell_type": "markdown",
   "metadata": {},
   "source": [
    "Vemos algunas columnas:"
   ]
  },
  {
   "cell_type": "code",
   "execution_count": 227,
   "metadata": {},
   "outputs": [
    {
     "name": "stdout",
     "output_type": "stream",
     "text": [
      "Index(['bay', 'bañado', 'bañar', 'baño', 'bañoscalidad', 'bañosmuy', 'bbb',\n",
      "       'bbq', 'beaf', 'bear', 'beat', 'beaten', 'beautiful', 'beautifull',\n",
      "       'beautifully', 'beauty', 'bebida', 'became', 'become', 'beef',\n",
      "       'beeftasty', 'beer', 'beerbasic', 'beercerveceria', 'beercerveja',\n",
      "       'beerdrink', 'beergood', 'beerhappy', 'beerhidden', 'beerpara',\n",
      "       'beerpeople', 'beerpong', 'beers', 'beerservice', 'beertastyyyy',\n",
      "       'beginner', 'behaviour', 'behind', 'bel', 'belgian', 'belgium',\n",
      "       'belgrano', 'belgranobuena', 'belgranocafetería', 'belgranocaffé',\n",
      "       'belgranodecent', 'belgranohistórica', 'belgranonan', 'belgranoshame',\n",
      "       'belgranowent', 'believe', 'bell', 'bella', 'bellagamba', 'belle',\n",
      "       'bellisimoitalianidad', 'bello', 'belt', 'bem', 'bene', 'benedettan',\n",
      "       'beneficio', 'benefit', 'benefício', 'benefíciobuena', 'berlinesas',\n",
      "       'berna', 'bernalelegante', 'bernardo', 'berreta', 'beside', 'besides',\n",
      "       'best', 'bestbest', 'besthorrible', 'bestpara', 'bestpense',\n",
      "       'bestpizza', 'better', 'betterawful', 'betterreally',\n",
      "       'betterunwelcoming', 'beunos', 'beverage', 'beware', 'beyond', 'bezoek',\n",
      "       'bi', 'bibaro', 'biblos', 'bid', 'bien', 'bienbuen', 'bienbuena',\n",
      "       'bienbueno', 'biendelicious', 'biendelivery', 'biene', 'bienestar',\n",
      "       'bienideal'],\n",
      "      dtype='object')\n"
     ]
    }
   ],
   "source": [
    "print(df_tfidf.columns[1000:1100])"
   ]
  },
  {
   "cell_type": "code",
   "execution_count": 228,
   "metadata": {},
   "outputs": [
    {
     "name": "stdout",
     "output_type": "stream",
     "text": [
      "greatest parrilla buenos aire im vegetarian ate amazing ask ...amazing service great food\n",
      "00            0.0\n",
      "03            0.0\n",
      "10            0.0\n",
      "100           0.0\n",
      "1000normal    0.0\n",
      "             ... \n",
      "𝒄𝒐𝒏           0.0\n",
      "𝒆𝒏            0.0\n",
      "𝒇𝒂𝒎𝒊𝒍𝒊𝒂       0.0\n",
      "𝒊𝒓            0.0\n",
      "𝒑𝒂𝒓𝒆𝒋𝒂        0.0\n",
      "Name: 9, Length: 9253, dtype: float64\n"
     ]
    }
   ],
   "source": [
    "print(reviews[10])\n",
    "print(df_tfidf.iloc[9])"
   ]
  }
 ],
 "metadata": {
  "kernelspec": {
   "display_name": "Python 3",
   "language": "python",
   "name": "python3"
  },
  "language_info": {
   "codemirror_mode": {
    "name": "ipython",
    "version": 3
   },
   "file_extension": ".py",
   "mimetype": "text/x-python",
   "name": "python",
   "nbconvert_exporter": "python",
   "pygments_lexer": "ipython3",
   "version": "3.8.19"
  }
 },
 "nbformat": 4,
 "nbformat_minor": 2
}
